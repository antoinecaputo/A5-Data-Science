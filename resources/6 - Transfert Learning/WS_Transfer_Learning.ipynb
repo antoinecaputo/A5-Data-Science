{
 "cells": [
  {
   "attachments": {
    "logo_ecole_ing.jpg": {
     "image/jpeg": "[encoded data removed]"
    }
   },
   "cell_type": "markdown",
   "metadata": {
    "id": "BkcSXRZGv7ss"
   },
   "source": [
    "# <center>Transfer Learning<br /> Workshop</center>\n",
    "\n",
    "![logo_ecole_ing.jpg](attachment:logo_ecole_ing.jpg)\n",
    "Concepteur : Mellila BOUAM\n",
    "</div>"
   ]
  },
  {
   "cell_type": "markdown",
   "metadata": {
    "id": "wdTHdaRqwSqP"
   },
   "source": [
    "# Introduction"
   ]
  },
  {
   "cell_type": "markdown",
   "metadata": {
    "id": "8NcCLmHMge1A"
   },
   "source": [
    "L'objectif de ce workshop est de vous initier au [transfer learning](https://fr.wikipedia.org/wiki/Apprentissage_par_transfert), une technique utilisée pour exploiter les connaissances acquises par un modèle entraîné sur un grand dataset sur une tâche applicative où la quantité de données disponibles est limitée.\n",
    "\n",
    "Nous commencerons par faire une analyse intuitive de l'efficacité du transfer learning. Nous préparerons ensuite la première partie, c'est-à-dire les données qui seront utilisées, du workshop d'[annotations d'images](https://fr.wikipedia.org/wiki/Annotation_automatique_d%27images) (image captioning) dans lequel nous allons effectuer l'entraînement d'un modèle en recourant au transfer learning.\n",
    "\n"
   ]
  },
  {
   "cell_type": "markdown",
   "metadata": {
    "id": "BP3uDiD5jfxE"
   },
   "source": [
    "## Qu'est-ce que le transfer learning ?"
   ]
  },
  {
   "cell_type": "markdown",
   "metadata": {
    "id": "Zqk9cBGGwXH-"
   },
   "source": [
    "Le **Transfer Learning** consiste à prendre des features apprises sur un problème, et les utiliser sur un autre problème similaire. Par exemple, les features d'un modèle qui a appris à reconnaître des chats peut être utile pour initialiser un modèle qui va reconnaître des tigres.\n",
    "\n",
    "Le transfer learning est souvent effectué sur des tâches où le dataset contient trop peu d'exemples pour entraîner un modèle à partir de zéro.\n",
    "\n",
    "Le workflow typique du transfer learning dans le contexte du deep learning est le suivant :\n",
    "\n",
    "1. Prendre les couches d'un modèle pré-entraîné.\n",
    "2. Geler les poids de ces couches.\n",
    "3. Ajouter des couches entraînables (dont les poids ne sont pas gelés) à la fin du modèle. Elle vont servir à convertir les features en prédictions sur un nouveau dataset.\n",
    "4. Entraîner les nouvelles couches sur le nouveau dataset.\n",
    "\n",
    "- Quel est l'intérêt de geler les poids des couches du modèle pré-entraîné (étape 2)? \n",
    "<em>À COMPLÉTER</em>\n",
    "\n",
    "\n",
    "Une dernière étape optionnelle, le **fine-tuning** consiste à dégeler toutes les couches du modèle obtenu après le processus précédent et le réentraîner sur le nouveau dataset avec un learning rate très bas. \n",
    "\n",
    "- Quel est l'intérêt de l'étape de fine-tuning ? Pourquoi utilise-on un learning rate très bas ?\n",
    "<em>À COMPLÉTER</em>\n",
    "\n",
    "\n"
   ]
  },
  {
   "cell_type": "markdown",
   "metadata": {
    "id": "3k2x-90wjpLd"
   },
   "source": [
    "# Partie 1 : Intuition sur le transfer learning\n",
    "\n",
    "Dans cette partie, nous allons charger le modèle [InceptionV3](https://paperswithcode.com/method/inception-v3) pré-entraîné sur une tâche de classification sur le dataset [ImageNet](https://image-net.org/). Nous allons ensuite utiliser ce modèle pour calculer des représentations vectorielles (appelées [embeddings](https://developers.google.com/machine-learning/crash-course/embeddings/video-lecture?hl=fr)) d'images du dataset [cats vs dogs](https://www.tensorflow.org/datasets/catalog/cats_vs_dogs). Nous allons ensuite représenter chaque embedding sur le plan et interpréter les résultats."
   ]
  },
  {
   "cell_type": "markdown",
   "metadata": {
    "id": "vkkl3Qk-z6Ql"
   },
   "source": [
    "## Chargement des données\n",
    "Nous chargeons premièrement le dataset cats vs. dogs en utilisant [TFDS](https://www.tensorflow.org/datasets?hl=fr) (TensorFlow Datasets).\n",
    "\n",
    "Le transfer learning marche particulièrement sur les petits datasets. Complétez le code ci-dessous, vous devez afficher le nombre d'exemples de chaque dataset."
   ]
  },
  {
   "cell_type": "code",
   "execution_count": 1,
   "metadata": {
    "id": "rPvwc-Fbs5fi"
   },
   "outputs": [],
   "source": [
    "import numpy as np\n",
    "import tensorflow as tf\n",
    "from tensorflow import keras"
   ]
  },
  {
   "cell_type": "code",
   "execution_count": 2,
   "metadata": {
    "colab": {
     "base_uri": "https://localhost:8080/"
    },
    "id": "7BlP4SbbtXcJ",
    "outputId": "f76edb9e-10dd-4b08-8cde-285e73947fb2"
   },
   "outputs": [
    {
     "ename": "ModuleNotFoundError",
     "evalue": "No module named 'tensorflow_datasets'",
     "output_type": "error",
     "traceback": [
      "\u001B[0;31m---------------------------------------------------------------------------\u001B[0m",
      "\u001B[0;31mModuleNotFoundError\u001B[0m                       Traceback (most recent call last)",
      "Cell \u001B[0;32mIn [2], line 3\u001B[0m\n\u001B[1;32m      1\u001B[0m \u001B[38;5;66;03m# On charge un dataset de tensorflow\u001B[39;00m\n\u001B[0;32m----> 3\u001B[0m \u001B[38;5;28;01mimport\u001B[39;00m \u001B[38;5;21;01mtensorflow_datasets\u001B[39;00m \u001B[38;5;28;01mas\u001B[39;00m \u001B[38;5;21;01mtfds\u001B[39;00m\n\u001B[1;32m      5\u001B[0m tfds\u001B[38;5;241m.\u001B[39mdisable_progress_bar()\n\u001B[1;32m      7\u001B[0m train_ds, validation_ds, test_ds \u001B[38;5;241m=\u001B[39m tfds\u001B[38;5;241m.\u001B[39mload(\n\u001B[1;32m      8\u001B[0m     \u001B[38;5;66;03m#A COMPLETER\u001B[39;00m\n\u001B[1;32m      9\u001B[0m     \u001B[38;5;66;03m#\"cifar10\",\u001B[39;00m\n\u001B[0;32m   (...)\u001B[0m\n\u001B[1;32m     12\u001B[0m     as_supervised\u001B[38;5;241m=\u001B[39m\u001B[38;5;28;01mTrue\u001B[39;00m,  \u001B[38;5;66;03m# Include labels\u001B[39;00m\n\u001B[1;32m     13\u001B[0m )\n",
      "\u001B[0;31mModuleNotFoundError\u001B[0m: No module named 'tensorflow_datasets'"
     ]
    }
   ],
   "source": [
    "# On charge un dataset de tensorflow\n",
    "\n",
    "import tensorflow_datasets as tfds\n",
    "\n",
    "tfds.disable_progress_bar()\n",
    "\n",
    "train_ds, validation_ds, test_ds = tfds.load(\n",
    "    'cats_vs_dogs',\n",
    "    #\"cifar10\",\n",
    "    # Reserve 10% for validation and 10% for test\n",
    "    split=[\"train[:40%]\", \"train[40%:50%]\", \"train[50%:60%]\"],\n",
    "    as_supervised=True,  # Include labels\n",
    ")\n",
    "\n",
    "# Nb of training samples\n",
    "print(\"Number of training samples: %d\" % tf.data.experimental.cardinality(train_ds))\n",
    "# Nb of validation samples\n",
    "print(\n",
    "    #A COMPLETER\n",
    ")\n",
    "# Nb of test samples\n",
    "print(\n",
    "    #A COMPLETER\n",
    ")"
   ]
  },
  {
   "cell_type": "markdown",
   "metadata": {
    "id": "1cjQ28eM0giY"
   },
   "source": [
    "Visualisons les 9 premières images du dataset. On remarquera que la classe 0 correspond à \"cat\" et la classe 1 correspond à dog."
   ]
  },
  {
   "cell_type": "code",
   "execution_count": 3,
   "metadata": {
    "colab": {
     "base_uri": "https://localhost:8080/",
     "height": 591
    },
    "id": "ZMchOUtPtbDR",
    "outputId": "7507eeee-f85b-46fa-ea6f-690ff06c381d"
   },
   "outputs": [],
   "source": [
    "# On affiche quelques exemples\n",
    "\n",
    "import matplotlib.pyplot as plt\n",
    "\n",
    "plt.figure(figsize=(10, 10))\n",
    "for i, (image, label) in enumerate(train_ds.take(9)):\n",
    "    ax = plt.subplot(3, 3, i + 1)\n",
    "    plt.imshow(image)\n",
    "    plt.title(int(label))\n",
    "    plt.axis(\"off\")"
   ]
  },
  {
   "cell_type": "markdown",
   "metadata": {
    "id": "rTUBZnW10y0S"
   },
   "source": [
    "## Standardisation des données\n",
    "Les images du dataset sont de tailles différentes. Nous devons donc les redimensionner pour correspondre à la taille attendue par le modèle que l'on va utiliser : InceptionV3.\n",
    "\n",
    "Nous redimensionnons les images pour une taille de (299x299). Pour le faire, vous aurez besoin d'une fonction de redimensionnement d'images, que [TensorFLow vous fournira](https://www.tensorflow.org/api_docs/python/tf/image/resize). Par ailleurs, si vous voulez effectuer le redimensionnement en une seule instruction, vous pouvez utiliser les [expressions lambda](https://www.w3schools.com/python/python_lambda.asp)"
   ]
  },
  {
   "cell_type": "code",
   "execution_count": 4,
   "metadata": {
    "id": "9n8womKqth6O"
   },
   "outputs": [],
   "source": [
    "# On resize les images \n",
    "\n",
    "size = (299, 299)\n",
    "\n",
    "train_ds = train_ds.map(\n",
    "    lambda: x, y: (tf.image.resize(x, size), y)\n",
    "    #A COMPLETER\n",
    ")\n",
    "validation_ds =  #A COMPLETER\n",
    "test_ds =  #A COMPLETER\n"
   ]
  },
  {
   "cell_type": "code",
   "execution_count": 5,
   "metadata": {
    "id": "EOaE1ukFitIW"
   },
   "outputs": [],
   "source": [
    " # On preprocess les images pour pouvoir les donner en entrées à InceptionV3\n",
    "\n",
    "train_ds =  #A COMPLETER\n",
    "validation_ds =  #A COMPLETER\n",
    "test_ds =  #A COMPLETER\n"
   ]
  },
  {
   "cell_type": "code",
   "execution_count": 6,
   "metadata": {
    "id": "nEeMKN6gtkNO"
   },
   "outputs": [],
   "source": [
    "batch_size = 32\n",
    "\n",
    "train_ds = train_ds.cache().batch(batch_size).prefetch(buffer_size=10)\n",
    "validation_ds =  #A COMPLETER\n",
    "test_ds =  #A COMPLETER\n"
   ]
  },
  {
   "cell_type": "code",
   "execution_count": 7,
   "metadata": {
    "colab": {
     "base_uri": "https://localhost:8080/"
    },
    "id": "4up2BQqvQOSM",
    "outputId": "14d8be5f-b3ae-40f2-d896-e43c2f962548"
   },
   "outputs": [],
   "source": [
    "# Telechargement du modèle InceptionV3 pré-entrainé avec la cassification sur ImageNet\n",
    "\n",
    "# Si on met weights=None -> on aura des embeddings qui ne contiennent pas d'info\n",
    "# Si on met weights='imagenet' -> on aura des embeddings sémantiquement pertinents même si le modèle n'a été entraîné ni sur cats vs dogs ni cifar10\n",
    "image_model = tf.keras.applications.InceptionV3(include_top=False,\n",
    "                                                weights='imagenet', pooling='avg')"
   ]
  },
  {
   "cell_type": "markdown",
   "metadata": {
    "id": "TszkaGXMYJsV"
   },
   "source": [
    "À quoi correspond le paramètre **include_top = false** ?\n",
    "<em>À COMPLÉTER</em>\n",
    " \n",
    "À quoi correspond le paramètre **weights='imagenet'** ? \n",
    "<em>À COMPLÉTER</em>\n",
    "\n",
    "À quoi correspond le paramètre **pooling='avg'** ?\n",
    "<em>À COMPLÉTER</em>\n",
    "\n",
    "\n",
    "On définit maintenant le [modèle que l'on va utiliser](https://www.tensorflow.org/api_docs/python/tf/keras/Model) :"
   ]
  },
  {
   "cell_type": "code",
   "execution_count": 8,
   "metadata": {
    "colab": {
     "base_uri": "https://localhost:8080/"
    },
    "id": "JBPpxW_thpYp",
    "outputId": "24f60590-758a-4af5-9f70-b987ba80facf"
   },
   "outputs": [],
   "source": [
    "# Définition du modèle d'embedding utilisant InceptionV3\n",
    "inputs = keras.Input(shape=(299, 299, 3))\n",
    "x = image_model(inputs)\n",
    "model =  #A COMPLETER\n",
    "model.summary()"
   ]
  },
  {
   "cell_type": "markdown",
   "metadata": {
    "id": "tHz2xVqnNfrC"
   },
   "source": [
    "On calcule les embeddings des images du dataset de test. Le dataset comprend 2326 images et la taille d'un embedding est de 2048 (regardez la documentation de keras.Model au dessus) :"
   ]
  },
  {
   "cell_type": "code",
   "execution_count": 9,
   "metadata": {
    "colab": {
     "base_uri": "https://localhost:8080/"
    },
    "id": "VasAv00whwc0",
    "outputId": "51d14d9e-f210-4b84-d660-bad0c6704970"
   },
   "outputs": [],
   "source": [
    "# Calcul des embeddings des images du dataset de test\n",
    "\n",
    "output = model.predict(test_ds, verbose=1) #A COMPLETER\n",
    "\n",
    "print(output.shape)"
   ]
  },
  {
   "cell_type": "code",
   "execution_count": 10,
   "metadata": {
    "id": "1DvylqDVvWf-"
   },
   "outputs": [],
   "source": [
    "# On construit la liste des vraies classes des exemples du dataset de test (1 -> chien, 0 -> chat)\n",
    "\n",
    "labels = []\n",
    "for _, y in test_ds:\n",
    "    labels.extend(\n",
    "        y.numpy().tolist()\n",
    "    )"
   ]
  },
  {
   "cell_type": "markdown",
   "metadata": {
    "id": "_CALowNlYgNa"
   },
   "source": [
    "Afin de montrer la pertinence d'utiliser un modèle InceptionV3 préentraîné sur ImageNet, nous allons visualiser les embeddings du dataset de test et voir s'il y a une certaine séparation entre les classes du dataset.\n",
    "\n",
    "Afin de visualiser l'embedding d'une image, celui-ci doit être de dimension 2. Or, les embeddings calculés sont de taille 2048. Nous allons donc utiliser l'algorithme [t-SNE](https://fr.wikipedia.org/wiki/Algorithme_t-SNE) afin de réduire la dimension de 2048 à 2.\n",
    "\n",
    "t-SNE est un algorithme de réduction de dimension utilisé pour visualiser des données à grande dimension. L'algorithme tente de trouver une configuration qui préserve le plus possible la proximité entre les points lors du passage de l'espace de grande dimension (ici 2048) à l'espace de faible dimension (ici 2). Nous utiliserons l'implémentation de la library [scikit-learn](https://scikit-learn.org/stable/modules/generated/sklearn.manifold.TSNE.html).\n"
   ]
  },
  {
   "cell_type": "code",
   "execution_count": 11,
   "metadata": {
    "colab": {
     "base_uri": "https://localhost:8080/"
    },
    "id": "KlhQ0fe3u42v",
    "outputId": "1fdbe255-ef49-49cc-eff7-6455b9ad1531"
   },
   "outputs": [],
   "source": [
    "# On applique l'algorithme tSNE aux embeddings afin de réduire leur dimension\n",
    "# et pouvoir les afficher (embeddings de tailles 2048 -> 2)\n",
    "from sklearn.manifold import TSNE\n",
    "tsne =  TSNE(n_components=2, verbose=1).fit_transform(output)#A COMPLETER"
   ]
  },
  {
   "cell_type": "code",
   "execution_count": 12,
   "metadata": {
    "colab": {
     "base_uri": "https://localhost:8080/",
     "height": 610
    },
    "id": "waCE7Iqtu_-F",
    "outputId": "755f5336-c8d6-41fb-b969-a71aec8efb13"
   },
   "outputs": [],
   "source": [
    "# On définit la couleur associée à chaque classe (seules 2 classes sont utilisées dans le cas cats vs dogs)\n",
    "\n",
    "colors = {0:'red', \n",
    "          1:'blue'}\n",
    "\n",
    "# On plot les embeddings des images calculés par InceptionV3\n",
    "# Chaque point correspond à une image et ses coordonnées sont l'embedding tsne de cette image\n",
    "plt.figure(figsize=(10, 10))\n",
    "plt.scatter(*tsne.T, s=1.5, c=[colors[l] for l in labels])"
   ]
  },
  {
   "cell_type": "markdown",
   "metadata": {
    "id": "zpqbHwUYGJL8"
   },
   "source": [
    "# Partie 2 : Préparation des données pour le transfer learning sur une tâche d'image captioning\n",
    "\n",
    "L'objectif de cette partie est de préparer les données, à travers des prétraitements, pour pouvoir entraîner un modèle sur la tâche d'image captioning. La tâche d'image captioning consiste à prendre une image en entrée et de donner en sortie, une \"phrase\" décrivant ce que contient cette image. Cette dernière partie sera abordée dans le Workshop suivant.\n",
    "\n",
    "Nous allons donc ici préparer les données pour ce prochain workshop où on entraînera un modèle composé d'un CNN InceptionV3 préentraîné sur ImageNet pour encoder les images du dataset COCO en embeddings, suivi d'un RNN qui servira à décoder l'embedding et sortir la description textuelle de l'image. Cet entraînement représente un exemple typique de transfer learning.\n",
    "\n",
    "Une légère modification que l'on peut faire au workflow de transfer learning décrit plus tôt est qu'au lieu de geler les poids du modèle préentraîné (InceptionV3), on peut précalculer les embeddings des images du dataset et les enregistrer dans le disque. Ceci servira à sacrifier un peu d'espace disque contre du temps d'éxecution (inutile de calculer les embeddings des images à chaque epochs) et de la mémoire GPU (inutile de charger le modèle InceptionV3 pendant l'entraînement).\n",
    "\n",
    "Avec cette modification par contre, il ne sera plus possible d'effectuer la phase de fine-tuning qui consiste à compléter l'entraînement du modèle InceptionV3 avec un ajustement très léger des poids (learning rate très bas) pour optimiser les embeddings qu'il construit. "
   ]
  },
  {
   "cell_type": "markdown",
   "metadata": {
    "id": "Wb5BaIf-tvtK"
   },
   "source": [
    "# 1 Téléchargement des données :\n",
    "Tout d'abord, nous devons importer les bibliothèques dont nous aurons besoin pour cette partie."
   ]
  },
  {
   "cell_type": "code",
   "execution_count": 3,
   "metadata": {
    "id": "TH7tgN9wtvtM"
   },
   "outputs": [],
   "source": [
    "import tensorflow as tf\n",
    "\n",
    "import matplotlib.pyplot as plt\n",
    "\n",
    "from sklearn.model_selection import train_test_split\n",
    "from sklearn.utils import shuffle\n",
    "\n",
    "import collections\n",
    "import random\n",
    "import re\n",
    "import numpy as np\n",
    "import os\n",
    "import time\n",
    "import json\n",
    "from glob import glob\n",
    "from PIL import Image\n",
    "import pickle"
   ]
  },
  {
   "cell_type": "markdown",
   "metadata": {
    "id": "GovJnRQHtvtO"
   },
   "source": [
    "Vous devez télécharger le dataset [MS COCO](https://cocodataset.org/#home). Ce dataset contient 82000 images annotés chacunes avec 5 légendes. Téléchargez le [dataset](http://images.cocodataset.org/zips/train2014.zip), les [annotations correspondantes](http://images.cocodataset.org/annotations/annotations_trainval2014.zip), et décompressez-les dans le bon répertoire. Le code ci-dessous affiche le chemin d'accès du dossier devant contenir les données ainsi que le fichier des annotations (`annotation_file` et `PATH`)."
   ]
  },
  {
   "cell_type": "code",
   "execution_count": 4,
   "metadata": {
    "colab": {
     "base_uri": "https://localhost:8080/"
    },
    "id": "QpXL9OgstvtP",
    "outputId": "d4db57a3-27c3-4310-dcce-b6f2ce051206"
   },
   "outputs": [
    {
     "name": "stdout",
     "output_type": "stream",
     "text": [
      "annotation file  /Users/antoine/Library/CloudStorage/OneDrive-AssociationCesiViacesimail/Cesi/A5/Option 1 - Data Science/6 - Transfert Learning/annotations/captions_train2014.json\n",
      "le chemin PATH  /Users/antoine/Library/CloudStorage/OneDrive-AssociationCesiViacesimail/Cesi/A5/Option 1 - Data Science/6 - Transfert Learning/train2014/\n"
     ]
    }
   ],
   "source": [
    "# Chemin du fichier d'annotations\n",
    "annotation_folder = os.path.abspath('.')+\"/annotations/\"\n",
    "annotation_file = annotation_folder+\"captions_train2014.json\"\n",
    "\n",
    "# Chemin du dossier contenant les images à annoter\n",
    "image_folder = '/train2014/'\n",
    "PATH = os.path.abspath('.') + image_folder\n",
    "\n",
    "print(\"annotation file \", annotation_file)\n",
    "print(\"le chemin PATH \", PATH)"
   ]
  },
  {
   "cell_type": "code",
   "execution_count": 5,
   "metadata": {
    "id": "w5nfrgdNJ061"
   },
   "outputs": [
    {
     "ename": "FileNotFoundError",
     "evalue": "[Errno 2] No such file or directory: '/Users/antoine/Library/CloudStorage/OneDrive-AssociationCesiViacesimail/Cesi/A5/Option 1 - Data Science/6 - Transfert Learning/annotations//captions_val2014.json'",
     "output_type": "error",
     "traceback": [
      "\u001B[0;31m---------------------------------------------------------------------------\u001B[0m",
      "\u001B[0;31mFileNotFoundError\u001B[0m                         Traceback (most recent call last)",
      "Cell \u001B[0;32mIn [5], line 1\u001B[0m\n\u001B[0;32m----> 1\u001B[0m \u001B[38;5;28;01mwith\u001B[39;00m \u001B[38;5;28;43mopen\u001B[39;49m\u001B[43m(\u001B[49m\u001B[43mannotation_folder\u001B[49m\u001B[38;5;241;43m+\u001B[39;49m\u001B[38;5;124;43m\"\u001B[39;49m\u001B[38;5;124;43m/captions_val2014.json\u001B[39;49m\u001B[38;5;124;43m\"\u001B[39;49m\u001B[43m,\u001B[49m\u001B[43m \u001B[49m\u001B[38;5;124;43m'\u001B[39;49m\u001B[38;5;124;43mr\u001B[39;49m\u001B[38;5;124;43m'\u001B[39;49m\u001B[43m)\u001B[49m \u001B[38;5;28;01mas\u001B[39;00m f:\n\u001B[1;32m      2\u001B[0m     annotations \u001B[38;5;241m=\u001B[39m json\u001B[38;5;241m.\u001B[39mload(f)\n",
      "\u001B[0;31mFileNotFoundError\u001B[0m: [Errno 2] No such file or directory: '/Users/antoine/Library/CloudStorage/OneDrive-AssociationCesiViacesimail/Cesi/A5/Option 1 - Data Science/6 - Transfert Learning/annotations//captions_val2014.json'"
     ]
    }
   ],
   "source": [
    "with open(annotation_folder+\"/captions_val2014.json\", 'r') as f:\n",
    "    annotations = json.load(f)"
   ]
  },
  {
   "cell_type": "code",
   "execution_count": 37,
   "metadata": {
    "id": "jbg5-3cEJa0t"
   },
   "outputs": [],
   "source": [
    "with open(annotation_folder+\"instances_val2014.json\", 'r') as f:\n",
    "    instances = json.load(f)"
   ]
  },
  {
   "cell_type": "markdown",
   "metadata": {
    "id": "zihN_KDTtvtW"
   },
   "source": [
    "On veut sélectionner un sous-ensemble d'images afin de rendre l'apprentissage plus rapide. Le but est de prendre seulement 35000 images au lieu des 82000 du dataset d'origine. Pour faire ceci, on pourra créer une structure qui associe chaque à image sa liste des annotations. Comment on pourrait représenter ces données intermédiaires ?\n",
    "<em>À COMPLÉTER</em>\n"
   ]
  },
  {
   "cell_type": "code",
   "execution_count": 38,
   "metadata": {
    "id": "4BdFKu1qtvtX"
   },
   "outputs": [],
   "source": [
    "# Lecture du fichier d'annotation\n",
    "with open(annotation_file, 'r') as f:\n",
    "    annotations = json.load(f)\n",
    "\n",
    "# Grouper toutes les annotations ayant le meme identifiant.\n",
    "image_path_to_caption = collections.defaultdict(list)\n",
    "for val in annotations['annotations']:\n",
    "    # marquer le debut et la fin de chaque annotation\n",
    "    caption =  #A COMPLETER\n",
    "    # L'identifiant d'une image fait partie de son chemin d'accès\n",
    "    image_path = PATH + 'COCO_train2014_' + '%012d.jpg' % (val['image_id'])\n",
    "    # Rajout du caption associé à image_path\n",
    "    #A COMPLETER\n"
   ]
  },
  {
   "cell_type": "code",
   "execution_count": 39,
   "metadata": {
    "colab": {
     "base_uri": "https://localhost:8080/"
    },
    "id": "9ndNZCLBtvta",
    "outputId": "fe09dd77-19b2-4d24-ca3e-d9d36d0f71c7"
   },
   "outputs": [],
   "source": [
    "# Prendre les premières images seulement\n",
    "image_paths = list(image_path_to_caption.keys())\n",
    "random.shuffle(image_paths)\n",
    "train_image_paths = image_paths[:2000]\n",
    "print(len(train_image_paths))"
   ]
  },
  {
   "cell_type": "markdown",
   "metadata": {
    "id": "bcI0zgKrtvtp"
   },
   "source": [
    "Maintenant, il est temps de construire notre jeu de données à proprement parler. Le code produisant ce jeu de données est composée de :\n",
    "<ul>\n",
    "        <li>La liste `img_name_vector` qui contient les noms des fichers d'images associés à aux annotations. C'est les exemples dans le jeu de données. </li>\n",
    "        <li>La liste `train_captions` contenant les annotations. C'est les labels.</li>\n",
    "</ul>\n",
    "Vous pouvez afficher un exemple pour vérification."
   ]
  },
  {
   "cell_type": "code",
   "execution_count": 40,
   "metadata": {
    "id": "8AE3wje7tvtr"
   },
   "outputs": [],
   "source": [
    "# Liste de toutes les annotations\n",
    "train_captions = []\n",
    "# Liste de tous les noms de fichiers des images dupliquées (en nombre d'annotations par image)\n",
    "img_name_vector = []\n",
    "\n",
    "for image_path in train_image_paths:\n",
    "    caption_list = image_path_to_caption[image_path]\n",
    "    # Rajout de caption_list dans train_captions\n",
    "    #A COMPLETER\n",
    "    # Rajout de image_path dupliquée len(caption_list) fois\n",
    "    #A COMPLETER\n"
   ]
  },
  {
   "cell_type": "code",
   "execution_count": 41,
   "metadata": {
    "colab": {
     "base_uri": "https://localhost:8080/",
     "height": 390
    },
    "id": "3ZpYOsILtvtu",
    "outputId": "2a6d5f1d-f053-4896-fc46-cd77f4f3db5a",
    "scrolled": false
   },
   "outputs": [],
   "source": [
    "print(len(train_captions), len(img_name_vector))\n",
    "print(train_captions[0])\n",
    "Image.open(img_name_vector[0])"
   ]
  },
  {
   "cell_type": "markdown",
   "metadata": {
    "id": "AA1-72wntvtw"
   },
   "source": [
    "# 2 Prétraitement des images\n",
    "Ce que l'on va faire ensuite, c'est charger le réseau de neurones qui s'occupera de la partie vision du problème d’annotation. En effet, l'architecture globale du système contiendra deux parties :\n",
    "<ul>\n",
    "    <li>Un CNN dont le rôle sera de résumer et d'extraire le contenu brute et volumineux de l'information portée par les pixels en une représentation compacte qui regroupe les caractéristiques essentielles pour effectuer l'annotation.</li>\n",
    "    <li>Et un RNN qui aura en entrée cette représentation compacte et dont le but est d'apprendre le prochain mot à partir des premiers mot de l'annotation.</li>\n",
    "</ul>\n",
    "\n",
    "Pour créer un nouveau modèle vous pourrez utiliser la fonction `tf.keras.Model` de [tensorflow](https://www.tensorflow.org/api_docs/python/tf/keras/Model). Pour la partie CNN, vous n'aurez pas à concevoir votre propre architecture pour le réseau de neurones, vous devez utiliser une architecture qui existe déjà et qui se nomme [InceptionV3](https://paperswithcode.com/method/inception-v3). Vous pouvez télécharger les poids de cette architecture obtenus par pré-entrainement sur le dataset [ImageNet](http://www.image-net.org/) (utilisé dans la classification). Ce réseau sera donc entrainé à faire de la classification d'images, mais vous allez utiliser la dernière couche cachée de ce réseau (c'est-à-dire l'avant-dernière couche car la dernière correspond aux classes de ImageNet), pour la mettre plus tard en entrée à votre RNN. Le RNN, comme nous l'avons dit précédemment, devra apprendre à faire de l'annotation en se basant sur ces représentations d'images. \n",
    "\n",
    "Comme l'entrainement s'effectue généralement en faisant plusieurs passes sur les données, l'intérêt de précalculer des représentations d'images est de ne pas avoir à faire passer à chaque fois les images dans le CNN et d'éviter les couts d'entrainement associés au CNN. L'inconvénient potentiel est que les performances seront probablement plus limitées car l'entrainement ne portera que sur les poids du RNN et pas ceux du CNN."
   ]
  },
  {
   "cell_type": "code",
   "execution_count": 42,
   "metadata": {
    "colab": {
     "base_uri": "https://localhost:8080/"
    },
    "id": "VZ5pbplBtvt2",
    "outputId": "83f34bfc-bc2c-46b2-d754-fa2dd6e66e3f"
   },
   "outputs": [],
   "source": [
    "# Telechargement du modèle InceptionV3 pré-entrainé avec la cassification sur ImageNet\n",
    "image_model = tf.keras.applications.InceptionV3(include_top=False,\n",
    "                                                weights='imagenet')\n",
    "# Creation d'une variable qui sera l'entrée du nouveau modèle de pre-traitement d'images\n",
    "new_input =  #A COMPLETER\n",
    "# récupérer la dernière couche caché qui contient l'image en representation compacte\n",
    "hidden_layer =  #A COMPLETER\n",
    "\n",
    "# Modèle qui calcule une representation dense des images avec InceptionV3\n",
    "image_features_extract_model =  #A COMPLETER\n"
   ]
  },
  {
   "cell_type": "code",
   "execution_count": 43,
   "metadata": {
    "id": "va0Ppu_1tvt5"
   },
   "outputs": [],
   "source": [
    "def load_image(image_path):\n",
    "    \"\"\"\n",
    "    La fonction load_image a pour entrée le chemin d'une image et pour sortie un couple\n",
    "    contenant l'image traitée ainsi que son chemin d'accès.\n",
    "    La fonction load_image effectue les traitement suivant:\n",
    "        1. Chargement du fichier correspondant au chemin d'accès image_path\n",
    "        2. Décodage de l'image en RGB.\n",
    "        3. Redimensionnement de l'image en taille (299, 299).\n",
    "        4. Normalisation des pîxels de l'image entre -1 et 1\n",
    "    \"\"\"\n",
    "    img =  #A COMPLETER\n",
    "    img =  #A COMPLETER\n",
    "    img =  #A COMPLETER\n",
    "    img =  #A COMPLETER\n",
    "    return img, image_path"
   ]
  },
  {
   "cell_type": "markdown",
   "metadata": {
    "id": "ehAZS9rmtvt6"
   },
   "source": [
    "Puisqu'on a déjà un CNN préentrainé, il convient mieux d'effectuer l'entrainement sur les représentations retournées par le CNN car elles sont plus compactes et donc moins couteuses en mémoire et en temps. Pour cela, il convient de les mettre en les mettre en cache au niveau du disque si votre RAM n'est pas assez grande. La dernière couche du CNN a la forme `8x8x2048`. Vous allez ensuite stocker ces images sous forme de `numpy.array` au niveau du disque grâce à la fonction `np.save()`.\n",
    "\n",
    "**Remarque:** Les traitements dans TensorFlow sont effectués par batch (c'est plus simple pour le GPU), donc il faut configurer votre batch pour pouvoir faire passer vos images dans InceptionV3."
   ]
  },
  {
   "cell_type": "code",
   "execution_count": 44,
   "metadata": {
    "colab": {
     "base_uri": "https://localhost:8080/"
    },
    "id": "XnH9jynttvt8",
    "outputId": "e4671011-f46d-47aa-c635-bce3d0b773e5"
   },
   "outputs": [],
   "source": [
    "from tqdm import tqdm\n",
    "\n",
    "# Pré-traitement des images\n",
    "# Prendre les noms des images\n",
    "encode_train = sorted(set(img_name_vector))\n",
    "\n",
    "# Creation d'une instance de \"tf.data.Dataset\" partant des noms des images \n",
    "image_dataset = tf.data.Dataset.from_tensor_slices(encode_train)\n",
    "# Division du données en batchs après application du pré-traitement fait par load_image\n",
    "image_dataset = image_dataset.map(\n",
    "  load_image, num_parallel_calls=tf.data.experimental.AUTOTUNE).batch(16)\n",
    "\n",
    "# Parcourir le dataset batch par batch pour effectuez le pré-traitement d'InceptionV3\n",
    "for img, path in tqdm(image_dataset):\n",
    "    # Pré-traitement du batch (de taille (16,8,8,2048)) courant par InceptionV3 \n",
    "    batch_features =  #A COMPLETER\n",
    "    # Resize du batch de taille (16,8,8,2048) en taille (16,64,2048)\n",
    "    batch_features = tf.reshape(batch_features,\n",
    "                              (batch_features.shape[0], -1, batch_features.shape[3]))\n",
    "    # Parcourir le batch courant et stocker le chemin ainsi que le batch avec np.save()\n",
    "    for bf, p in zip(batch_features, path):\n",
    "        path_of_feature = p.numpy().decode(\"utf-8\")\n",
    "        # (chemin de l'image associe a sa nouvelle representation , representation de l'image)\n",
    "        np.save(\n",
    "            #A COMPLETER\n",
    "        )"
   ]
  },
  {
   "cell_type": "markdown",
   "metadata": {
    "id": "7_lKlRUrtvt-"
   },
   "source": [
    "# 3 Prétraitement des annotations\n",
    "\n",
    "Pour faire de l'annotation nous devons avoir la possibilité de traiter le texte de manière automatique en suivant les étapes ci-dessous :\n",
    "<ul>\n",
    "    <li>Construire un vocabulaire des mots contenus dans les légendes. Pour cela nous devons tokeniser (diviser) les mots dans les légendes sur les caractères spéciaux (espaces, ponctuation, signes spéciaux, ...).</li>\n",
    "    <li>Ce vocabulaire sera beaucoup trop volumineux, on devra se limiter par exemple aux 5000 premiers mots les plus fréquents. Vous pourrez remplacer les autres mots par un token spécial nommé \"UNK\" (unknown).</li>\n",
    "    <li>Les mots doivent aussi être numérotés dans le dictionnaire pour en former des annotations représentés de manière lisible pour les algorithme de traitement de texte.</li>\n",
    "    <li>Les exemples (annotations) seront remplis pour qu'ils aient tous la même taille (la taille maximale des annotations).</li>\n",
    "</ul>"
   ]
  },
  {
   "cell_type": "code",
   "execution_count": 45,
   "metadata": {
    "id": "aUdb_kXTtvuA"
   },
   "outputs": [],
   "source": [
    "# Trouver la taille maximale \n",
    "def calc_max_length(tensor):\n",
    "    return max(len(t) for t in tensor)\n",
    "\n",
    "# Chosir les 5000 mots les plus frequents du vocabulaire\n",
    "top_k = 5000\n",
    "#La classe Tokenizer permet de faire du pre-traitement de texte pour reseau de neurones \n",
    "tokenizer = tf.keras.preprocessing.text.Tokenizer(num_words=top_k,\n",
    "                                                  oov_token=\"<unk>\",\n",
    "                                                  filters='!\"#$%&()*+.,-/:;=?@[\\]^_`{|}~ ')\n",
    "# Construit un vocabulaire en se basant sur la liste train_captions\n",
    "tokenizer.fit_on_texts(train_captions)\n",
    "\n",
    "# Créer le token qui sert à remplir les annotations pour egaliser leurs longueur\n",
    "tokenizer.word_index['<pad>'] =  0#A COMPLETER\n",
    "tokenizer.index_word[0] =  '<pad>' #A COMPLETER\n",
    "\n",
    "# Creation des vecteurs(liste de token entiers) à partir des annotations (liste de mots)\n",
    "train_seqs =  tokenizer.texts_to_sequences(train_captions)#A COMPLETER\n",
    "\n",
    "# Remplir chaque vecteur à jusqu'à la longueur maximale des annotations\n",
    "cap_vector =  tf.keras.preprocessing.sequence.pad_sequences(train_seqs, padding='post')#A COMPLETER\n",
    "\n",
    "# Calcule la longueur maximale qui est utilisée pour stocker les poids d'attention \n",
    "# Elle servira plus tard pour l'affichage lors de l'évaluation\n",
    "max_length = calc_max_length(train_seqs)"
   ]
  },
  {
   "cell_type": "markdown",
   "metadata": {
    "id": "xWPu43FcTWWO"
   },
   "source": [
    "Par la suite (dans le prochain workshop), nous reprendrons cette deuxième partie et nous enchaînerons avec la formation du jeu d'entrainement et de test, la construction du modèle que l'on va entraîner ainsi que la phase d'entraînement et de test."
   ]
  }
 ],
 "metadata": {
  "accelerator": "GPU",
  "colab": {
   "collapsed_sections": [],
   "name": "transfer_learning_vfinale.ipynb",
   "provenance": []
  },
  "kernelspec": {
   "display_name": "Python 3",
   "language": "python",
   "name": "python3"
  },
  "language_info": {
   "codemirror_mode": {
    "name": "ipython",
    "version": 3
   },
   "file_extension": ".py",
   "mimetype": "text/x-python",
   "name": "python",
   "nbconvert_exporter": "python",
   "pygments_lexer": "ipython3",
   "version": "3.7.3"
  }
 },
 "nbformat": 4,
 "nbformat_minor": 1
}
